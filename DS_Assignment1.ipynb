{
 "cells": [
  {
   "cell_type": "code",
   "execution_count": 2,
   "id": "d43098d5",
   "metadata": {},
   "outputs": [
    {
     "name": "stdout",
     "output_type": "stream",
     "text": [
      "Twinkle, twinkle, little star,\n",
      "\tHow I wonder what you are!\n",
      "\t\tUp above the world so high,\n",
      "\t\tLike a diamond in the sky.\n",
      "Twinkle, twinkle, little star,\n",
      "\tHow I wonder what you are\n"
     ]
    }
   ],
   "source": [
    "#Question1\n",
    "\n",
    "string = \"\"\"Twinkle, twinkle, little star,\n",
    "\\tHow I wonder what you are!\n",
    "\\t\\tUp above the world so high,\n",
    "\\t\\tLike a diamond in the sky.\n",
    "Twinkle, twinkle, little star,\n",
    "\\tHow I wonder what you are\"\"\"\n",
    "\n",
    "print(string)"
   ]
  },
  {
   "cell_type": "code",
   "execution_count": 5,
   "id": "17006631",
   "metadata": {},
   "outputs": [
    {
     "name": "stdout",
     "output_type": "stream",
     "text": [
      "3.8.8\n"
     ]
    }
   ],
   "source": [
    "#Question2\n",
    "\n",
    "from platform import python_version\n",
    "\n",
    "print(python_version())"
   ]
  },
  {
   "cell_type": "code",
   "execution_count": 14,
   "id": "8a5a7e17",
   "metadata": {},
   "outputs": [
    {
     "name": "stdout",
     "output_type": "stream",
     "text": [
      "Current date : \n",
      "01-01-2022\n",
      "\n",
      "Current time : \n",
      "23:10\n"
     ]
    }
   ],
   "source": [
    "#Question3\n",
    "\n",
    "import datetime\n",
    "now = datetime.datetime.now()\n",
    "\n",
    "print (\"Current date : \")\n",
    "print (now.strftime(\"%d-%m-%Y\"))\n",
    "\n",
    "print (\"\\nCurrent time : \")\n",
    "print (now.strftime(\"%H:%M\"))"
   ]
  },
  {
   "cell_type": "code",
   "execution_count": 17,
   "id": "44607176",
   "metadata": {},
   "outputs": [
    {
     "name": "stdout",
     "output_type": "stream",
     "text": [
      "Input the radius of circle : 5\n",
      "The area of circle is: 78.5\n"
     ]
    }
   ],
   "source": [
    "#Question4\n",
    "\n",
    "area = float(input (\"Input the radius of circle : \"))\n",
    "\n",
    "print (\"The area of circle is: \" + str(3.14 * r**2))"
   ]
  },
  {
   "cell_type": "code",
   "execution_count": 19,
   "id": "a6314cbb",
   "metadata": {},
   "outputs": [
    {
     "name": "stdout",
     "output_type": "stream",
     "text": [
      "Input First Name : ab\n",
      "Input Last Name : wahab\n",
      "Name in Reverse is :  wahab ab\n"
     ]
    }
   ],
   "source": [
    "#Question5\n",
    "\n",
    "fname = input(\"Input First Name : \")\n",
    "lname = input(\"Input Last Name : \")\n",
    "print (\"Name in Reverse is :  \" + lname + \" \" + fname)"
   ]
  },
  {
   "cell_type": "code",
   "execution_count": 26,
   "id": "18d6d4be",
   "metadata": {},
   "outputs": [
    {
     "name": "stdout",
     "output_type": "stream",
     "text": [
      "enter first number: 4\n",
      "enter second number: 5\n",
      "sum: 9\n",
      "\n",
      "enter first input: ab\n",
      "enter second input: wahab\n",
      "sum: abwahab\n"
     ]
    }
   ],
   "source": [
    "#Question6\n",
    " \n",
    "\n",
    "#Two Integer inputs\n",
    "a = int(input(\"enter first number: \"))\n",
    "b = int(input(\"enter second number: \"))\n",
    " \n",
    "sum = a + b\n",
    " \n",
    "print(\"sum:\", sum)\n",
    "\n",
    "\n",
    "#Two String inputs\n",
    "a = str(input(\"\\nenter first input: \"))\n",
    "b = str(input(\"enter second input: \"))\n",
    " \n",
    "sum = a + b\n",
    " \n",
    "print(\"sum:\", sum)"
   ]
  },
  {
   "cell_type": "code",
   "execution_count": null,
   "id": "b050f73d",
   "metadata": {},
   "outputs": [],
   "source": []
  }
 ],
 "metadata": {
  "kernelspec": {
   "display_name": "Python 3",
   "language": "python",
   "name": "python3"
  },
  "language_info": {
   "codemirror_mode": {
    "name": "ipython",
    "version": 3
   },
   "file_extension": ".py",
   "mimetype": "text/x-python",
   "name": "python",
   "nbconvert_exporter": "python",
   "pygments_lexer": "ipython3",
   "version": "3.8.8"
  }
 },
 "nbformat": 4,
 "nbformat_minor": 5
}
